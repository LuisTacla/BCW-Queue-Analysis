{
 "cells": [
  {
   "cell_type": "markdown",
   "id": "a2c8f872",
   "metadata": {},
   "source": [
    "IMPORTAÇÃO DAS DEPENDÊNCIAS"
   ]
  },
  {
   "cell_type": "code",
   "execution_count": null,
   "id": "721feb6f",
   "metadata": {},
   "outputs": [],
   "source": [
    "import pandas as pd\n",
    "import numpy as np\n",
    "from pandas.plotting import table\n",
    "import matplotlib.pyplot as plt\n",
    "import seaborn as sns\n",
    "import calendar\n",
    "import scipy.stats as stats\n",
    "from matplotlib.colors import LinearSegmentedColormap\n",
    "from datetime import datetime\n",
    "# from sklearn.model_selection import train_test_split\n",
    "# from sklearn.linear_model import LinearRegression\n",
    "# from sklearn.metrics import mean_squared_error, r2_score\n",
    "# from sklearn.preprocessing import LabelEncoder\n",
    "# from sklearn.metrics import mean_squared_error\n",
    "# import statsmodels as sm\n",
    "# import statsmodels.formula.api as smf"
   ]
  },
  {
   "cell_type": "markdown",
   "id": "5ec154d2",
   "metadata": {},
   "source": [
    "CRIAÇÃO DO DATAFRAME df_geral"
   ]
  },
  {
   "cell_type": "code",
   "execution_count": null,
   "id": "b1e47eec",
   "metadata": {},
   "outputs": [],
   "source": [
    "df_geral = pd.read_csv(\"clear-data/dados_tratados.csv\")"
   ]
  },
  {
   "cell_type": "markdown",
   "id": "55414e96",
   "metadata": {},
   "source": [
    "CONVERSÃO DE DADOS REFERENTES À DATA E HORA"
   ]
  },
  {
   "cell_type": "code",
   "execution_count": null,
   "id": "927f1e67",
   "metadata": {},
   "outputs": [],
   "source": [
    "df_geral['data_hora'] = pd.to_datetime(df_geral['data_hora'])\n",
    "\n",
    "df_geral['date'] = df_geral['data_hora'].dt.date"
   ]
  },
  {
   "cell_type": "code",
   "execution_count": null,
   "id": "37a21a46",
   "metadata": {},
   "outputs": [],
   "source": [
    "tabela_horarios = pd.read_excel(\"bcw-operation-calendar.xlsx\")\n",
    "tabela_horarios[\"date\"] = pd.to_datetime(tabela_horarios[\"date\"])"
   ]
  },
  {
   "cell_type": "code",
   "execution_count": null,
   "id": "f78856f9",
   "metadata": {},
   "outputs": [],
   "source": [
    "# Cálculo dos percentis\n",
    "p5 = 0\n",
    "p90 = 0\n",
    "p95 = 0\n",
    "\n",
    "# Função de mapeamento de cores\n",
    "def custom_color_map(value):\n",
    "    if value > p95:\n",
    "        return 'black'\n",
    "    else:\n",
    "        norm_value = (value - p5) / (p95 - p5)\n",
    "        return plt.cm.RdYlGn_r(norm_value)\n",
    "\n",
    "def gera_calendario(espera, tipo, metrica, mes, ano):\n",
    "    # Reorganize o dataframe para a forma desejada\n",
    "    pivot_df = espera.pivot_table(values='wait_time', index='week_of_year', columns='day_of_week', aggfunc=np.mean)\n",
    "\n",
    "    # Reordene as colunas para começar na segunda-feira\n",
    "    ordered_days = ['Monday', 'Tuesday', 'Wednesday', 'Thursday', 'Friday', 'Saturday', 'Sunday']\n",
    "\n",
    "    # Crie um DataFrame temporário com todas as colunas ordenadas\n",
    "    temp_df = pd.DataFrame(columns=ordered_days)\n",
    "    \n",
    "    for day in ordered_days:\n",
    "        if day in pivot_df.columns:\n",
    "            temp_df[day] = pivot_df[day]\n",
    "        else:\n",
    "            temp_df[day] = np.nan\n",
    "\n",
    "    pivot_df = temp_df\n",
    "\n",
    "    # Passo 1: Crie uma matriz de anotações\n",
    "    annotation_array = []\n",
    "    for week in pivot_df.index:\n",
    "        annotation_row = []\n",
    "        for day in ordered_days:\n",
    "            date_row = espera[(espera['week_of_year'] == week) & (espera['day_of_week'] == day)]\n",
    "            if not date_row.empty:\n",
    "                day_of_month = date_row.iloc[0]['day']\n",
    "                month = date_row.iloc[0]['month']\n",
    "                wait_time = date_row.iloc[0]['wait_time']\n",
    "                annotation_row.append(f\"{day_of_month}/{month}\\n{wait_time}\")\n",
    "            else:\n",
    "                annotation_row.append('')\n",
    "        annotation_array.append(annotation_row)\n",
    "\n",
    "    annotation_array = np.array(annotation_array)\n",
    "    \n",
    "    # Inverter o DataFrame e a matriz de anotações\n",
    "    pivot_df_inverted = pivot_df.iloc[::-1]\n",
    "    annotation_array_inverted = annotation_array[::-1]\n",
    "\n",
    "    altura = 0\n",
    "\n",
    "    if tipo =='Mensal':\n",
    "        altura = 10\n",
    "    else:\n",
    "        altura = 30\n",
    "    \n",
    "    plt.figure(figsize=(12, altura))\n",
    "\n",
    "    # Anotação e cores\n",
    "    for i, week in enumerate(pivot_df_inverted.index):\n",
    "        for j, day in enumerate(pivot_df_inverted.columns):\n",
    "            value = pivot_df_inverted.loc[week, day]\n",
    "            if not np.isnan(value):\n",
    "                color = 'white' if value > p90 or value < 17 else 'black'\n",
    "                \n",
    "                # A data acima do tempo médio de fila (fonte menor e sem negrito)\n",
    "                day_of_month = annotation_array_inverted[i, j].split('\\n')[0]\n",
    "                plt.text(j + 0.8, i + 0.8, f\"{day_of_month}\", ha='center', va='center', fontsize=10, fontweight='normal', color=color)\n",
    "\n",
    "                # O tempo médio de fila (fonte maior e negrito)\n",
    "                wait_time = annotation_array_inverted[i, j].split('\\n')[1]\n",
    "                wait_time = int(float(wait_time))  # Converter para float e, em seguida, para inteiro\n",
    "            \n",
    "                plt.text(j + 0.5, i + 0.4, f\"{wait_time}\", ha='center', va='center', fontsize=18, fontweight='bold', color=color)\n",
    "\n",
    "                plt.fill_betweenx([i, i+1], j, j+1, color=custom_color_map(value))\n",
    "                plt.plot([j, j+1, j+1, j, j], [i, i, i+1, i+1, i], color='white', linewidth=1.5)\n",
    "\n",
    "    plt.xticks(ticks=np.arange(0.5, len(pivot_df_inverted.columns)), labels=pivot_df_inverted.columns, rotation=45)\n",
    "    plt.yticks(ticks=np.arange(0.5, len(pivot_df_inverted.index)), labels=pivot_df_inverted.index)\n",
    "    titulo = \"\"\n",
    "    \n",
    "    if metrica == 'mean':\n",
    "        titulo = \"Calendário de Tempo de Espera Médio\"\n",
    "    elif metrica == 'max':\n",
    "        titulo = \"Calendário de Tempo de Espera Máximo\"\n",
    "    elif metrica == 'median':\n",
    "        titulo = \"Calendário de Tempo de Espera Mediano\"\n",
    "    elif metrica == 'mode':\n",
    "        titulo = \"Calendário de Tempo de Espera Modal\"\n",
    "    elif metrica == 'std':\n",
    "        titulo = \"Calendário dos Desvios Padrão do Tempo de Espera\"\n",
    "    \n",
    "    plt.title(titulo)\n",
    "    plt.xlabel(\"Dia da Semana\")\n",
    "    plt.ylabel(\"Semana do Ano\")\n",
    "\n",
    "    now = datetime.now()\n",
    "    data_hora_formatada = now.strftime('%Y-%m-%d-%H%M')\n",
    "\n",
    "    nome_arquivo = ''\n",
    "    \n",
    "    if tipo == 'Mensal':\n",
    "        nome_arquivo=f'{metrica}_daily_wait_time_{mes}{ano}-{data_hora_formatada}.png'\n",
    "    else:\n",
    "        nome_arquivo=f'{metrica}_daily_wait_time_{ano}-{data_hora_formatada}.png'\n",
    "\n",
    "    plt.savefig(nome_arquivo)\n",
    "\n",
    "    plt.show()"
   ]
  },
  {
   "cell_type": "markdown",
   "id": "aff91519",
   "metadata": {},
   "source": [
    "### ANÁLISE BASEADA NOS TEMPOS MÉDIOS DE FILA"
   ]
  },
  {
   "cell_type": "code",
   "execution_count": null,
   "id": "d218631e",
   "metadata": {},
   "outputs": [],
   "source": [
    "espera_media = df_geral.groupby('date')['wait_time'].mean().reset_index()"
   ]
  },
  {
   "cell_type": "code",
   "execution_count": null,
   "id": "39091925",
   "metadata": {},
   "outputs": [],
   "source": [
    "espera_media['wait_time'] = espera_media['wait_time'].round(0)"
   ]
  },
  {
   "cell_type": "code",
   "execution_count": null,
   "id": "c1173c40",
   "metadata": {},
   "outputs": [],
   "source": [
    "espera_media['date'] = pd.to_datetime(espera_media['date'])\n",
    "espera_media['year'] = espera_media['date'].dt.year\n",
    "espera_media['month'] = espera_media['date'].dt.month\n",
    "espera_media['day'] = espera_media['date'].dt.day"
   ]
  },
  {
   "cell_type": "code",
   "execution_count": null,
   "id": "dcf932d8",
   "metadata": {},
   "outputs": [],
   "source": [
    "espera_media = pd.merge(espera_media, tabela_horarios, on=\"date\", how=\"left\")\n",
    "\n",
    "# Adicione colunas para o dia da semana e a semana do ano\n",
    "espera_media['day_of_week'] = espera_media['date'].dt.day_name()\n",
    "espera_media['week_of_year'] = espera_media['date'].dt.isocalendar().week\n",
    "\n",
    "# Identifique os registros que atendem ao critério\n",
    "primeiros_dias_janeiro = (espera_media['month'] == 1) & (espera_media['week_of_year'] > 50)\n",
    "\n",
    "# Atribua o valor 0 à coluna 'week_of_year' para esses registros\n",
    "espera_media.loc[primeiros_dias_janeiro, 'week_of_year'] = 0\n",
    "\n",
    "espera_media"
   ]
  },
  {
   "cell_type": "code",
   "execution_count": null,
   "id": "9274da23",
   "metadata": {},
   "outputs": [],
   "source": [
    "# Reorganize o dataframe para a forma desejada\n",
    "pivot_df = espera_media.pivot_table(values='wait_time', index='week_of_year', columns='day_of_week', aggfunc=np.mean)\n",
    "\n",
    "# Reordene as colunas para começar na segunda-feira\n",
    "ordered_days = ['Monday', 'Tuesday', 'Wednesday', 'Thursday', 'Friday', 'Saturday', 'Sunday']\n",
    "pivot_df = pivot_df[ordered_days]"
   ]
  },
  {
   "cell_type": "code",
   "execution_count": null,
   "id": "91424f45",
   "metadata": {},
   "outputs": [],
   "source": [
    "plt.figure(figsize=(12, 6))\n",
    "sns.histplot(espera_media['wait_time'], bins=30, kde=True)\n",
    "plt.title(\"Distribuição dos Tempos Médios de Espera\")\n",
    "plt.xlabel(\"Tempo de Espera\")\n",
    "plt.ylabel(\"Frequência\")\n",
    "plt.show()"
   ]
  },
  {
   "cell_type": "code",
   "execution_count": null,
   "id": "7b5c6b33",
   "metadata": {},
   "outputs": [],
   "source": [
    "meses = ['jan', 'fev', 'mar', 'abr', 'mai', 'jun', 'jul', 'ago', 'set', 'out', 'nov', 'dez']\n",
    "\n",
    "espera_media_meses = []\n",
    "\n",
    "for mes in meses:\n",
    "    numero_mes = meses.index(mes) + 1  # Obtém o número do mês (janeiro = 1, fevereiro = 2, etc.)\n",
    "    espera_media_mes = espera_media[espera_media['month'] == numero_mes]\n",
    "    espera_media_meses.append(espera_media_mes)"
   ]
  },
  {
   "cell_type": "code",
   "execution_count": null,
   "id": "b17a6e7d",
   "metadata": {},
   "outputs": [],
   "source": [
    "# Cálculo dos percentis\n",
    "p5 = np.percentile(espera_media['wait_time'], 5)\n",
    "p90 = np.percentile(espera_media['wait_time'], 90)\n",
    "p95 = np.percentile(espera_media['wait_time'], 95)"
   ]
  },
  {
   "cell_type": "code",
   "execution_count": null,
   "id": "951632dc",
   "metadata": {
    "scrolled": true
   },
   "outputs": [],
   "source": [
    "gera_calendario(espera_media, 'Anual', 'mean', '')"
   ]
  },
  {
   "cell_type": "code",
   "execution_count": null,
   "id": "8313be5b-44b7-4a97-8bf8-eb56b7589349",
   "metadata": {},
   "outputs": [],
   "source": [
    "# for mes in meses:\n",
    "#     numero_mes = meses.index(mes)\n",
    "#     gera_calendario(espera_media_meses[numero_mes], 'Mensal', 'mean', mes)"
   ]
  },
  {
   "cell_type": "code",
   "execution_count": null,
   "id": "f2896a7a-be7e-43ed-89f6-9f96dacc16a2",
   "metadata": {},
   "outputs": [],
   "source": [
    "# Média de filas ao longo dos meses\n",
    "media_mes = espera_media.groupby('month')['wait_time'].mean()\n",
    "\n",
    "# Plotar gráfico de barras\n",
    "sns.barplot(x=media_mes.index, y=media_mes.values)\n",
    "plt.xlabel('Mês')\n",
    "plt.ylabel('Média de Fila')\n",
    "plt.title('Média de Filas ao Longo dos Meses')\n",
    "plt.show()"
   ]
  },
  {
   "cell_type": "code",
   "execution_count": null,
   "id": "432377f3",
   "metadata": {},
   "outputs": [],
   "source": [
    "# Média de filas ao longo da semana\n",
    "media_semana = espera_media.groupby('day_of_week')['wait_time'].mean().reindex(['Monday', 'Tuesday', 'Wednesday', 'Thursday', 'Friday', 'Saturday', 'Sunday'])\n",
    "\n",
    "# Plotar gráfico de barras\n",
    "sns.barplot(x=media_semana.index, y=media_semana.values)\n",
    "plt.xlabel('Dia da Semana')\n",
    "plt.ylabel('Média de Fila')\n",
    "plt.title('Média de Filas ao Longo da Semana')\n",
    "plt.show()"
   ]
  },
  {
   "cell_type": "markdown",
   "id": "9a787fca",
   "metadata": {},
   "source": [
    "### ANÁLISE BASEADA NOS TEMPOS MÁXIMOS DE FILA"
   ]
  },
  {
   "cell_type": "code",
   "execution_count": null,
   "id": "9b70ad31",
   "metadata": {},
   "outputs": [],
   "source": [
    "espera_maxima = df_geral.groupby('date')['wait_time'].max().reset_index()"
   ]
  },
  {
   "cell_type": "code",
   "execution_count": null,
   "id": "836521ab",
   "metadata": {},
   "outputs": [],
   "source": [
    "espera_maxima['wait_time'] = espera_maxima['wait_time'].round(0)"
   ]
  },
  {
   "cell_type": "code",
   "execution_count": null,
   "id": "1899b2b4",
   "metadata": {},
   "outputs": [],
   "source": [
    "espera_maxima['date'] = pd.to_datetime(espera_maxima['date'])\n",
    "espera_maxima['year'] = espera_maxima['date'].dt.year\n",
    "espera_maxima['month'] = espera_maxima['date'].dt.month\n",
    "espera_maxima['day'] = espera_maxima['date'].dt.day"
   ]
  },
  {
   "cell_type": "code",
   "execution_count": null,
   "id": "73ef65ee",
   "metadata": {},
   "outputs": [],
   "source": [
    "espera_maxima = pd.merge(espera_maxima, tabela_horarios, on=\"date\", how=\"left\")\n",
    "\n",
    "# Adicione colunas para o dia da semana e a semana do ano\n",
    "espera_maxima['day_of_week'] = espera_maxima['date'].dt.day_name()\n",
    "espera_maxima['week_of_year'] = espera_maxima['date'].dt.isocalendar().week\n",
    "\n",
    "# Identifique os registros que atendem ao critério\n",
    "primeiros_dias_janeiro = (espera_maxima['month'] == 1) & (espera_maxima['week_of_year'] > 50)\n",
    "\n",
    "# Atribua o valor 0 à coluna 'week_of_year' para esses registros\n",
    "espera_maxima.loc[primeiros_dias_janeiro, 'week_of_year'] = 0\n",
    "\n",
    "espera_maxima"
   ]
  },
  {
   "cell_type": "code",
   "execution_count": null,
   "id": "42273461",
   "metadata": {},
   "outputs": [],
   "source": [
    "# Reorganize o dataframe para a forma desejada\n",
    "pivot_df = espera_maxima.pivot_table(values='wait_time', index='week_of_year', columns='day_of_week', aggfunc=np.mean)\n",
    "\n",
    "# Reordene as colunas para começar na segunda-feira\n",
    "ordered_days = ['Monday', 'Tuesday', 'Wednesday', 'Thursday', 'Friday', 'Saturday', 'Sunday']\n",
    "pivot_df = pivot_df[ordered_days]"
   ]
  },
  {
   "cell_type": "code",
   "execution_count": null,
   "id": "1748e83e",
   "metadata": {},
   "outputs": [],
   "source": [
    "plt.figure(figsize=(12, 6))\n",
    "sns.histplot(espera_maxima['wait_time'], bins=30, kde=True)\n",
    "plt.title(\"Distribuição dos Tempos Máximos de Espera\")\n",
    "plt.xlabel(\"Tempo de Espera\")\n",
    "plt.ylabel(\"Frequência\")\n",
    "plt.show()"
   ]
  },
  {
   "cell_type": "code",
   "execution_count": null,
   "id": "81979601",
   "metadata": {},
   "outputs": [],
   "source": [
    "meses = ['jan', 'fev', 'mar', 'abr', 'mai', 'jun', 'jul', 'ago', 'set', 'out', 'nov', 'dez']\n",
    "\n",
    "espera_maxima_meses = []\n",
    "\n",
    "for mes in meses:\n",
    "    numero_mes = meses.index(mes) + 1  # Obtém o número do mês (janeiro = 1, fevereiro = 2, etc.)\n",
    "    espera_maxima_mes = espera_maxima[espera_maxima['month'] == numero_mes]\n",
    "    espera_maxima_meses.append(espera_maxima_mes)"
   ]
  },
  {
   "cell_type": "code",
   "execution_count": null,
   "id": "1ff135e9",
   "metadata": {},
   "outputs": [],
   "source": [
    "# Cálculo dos percentis\n",
    "p5 = np.percentile(espera_maxima['wait_time'], 5)\n",
    "p90 = np.percentile(espera_maxima['wait_time'], 90)\n",
    "p95 = np.percentile(espera_maxima['wait_time'], 95)"
   ]
  },
  {
   "cell_type": "code",
   "execution_count": null,
   "id": "96dd9b73",
   "metadata": {},
   "outputs": [],
   "source": [
    "gera_calendario(espera_maxima, 'Anual', 'max', '')"
   ]
  },
  {
   "cell_type": "code",
   "execution_count": null,
   "id": "ce5f35cb",
   "metadata": {},
   "outputs": [],
   "source": [
    "# for mes in meses:\n",
    "#     numero_mes = meses.index(mes)\n",
    "#     gera_calendario(espera_maxima_meses[numero_mes], 'Mensal', 'max', mes)"
   ]
  },
  {
   "cell_type": "code",
   "execution_count": null,
   "id": "71e4e947",
   "metadata": {},
   "outputs": [],
   "source": [
    "# Média dos tempos máximos de filas ao longo dos meses\n",
    "media_mes = espera_maxima.groupby('month')['wait_time'].mean()\n",
    "\n",
    "# Plotar gráfico de barras\n",
    "sns.barplot(x=media_mes.index, y=media_mes.values)\n",
    "plt.xlabel('Mês')\n",
    "plt.ylabel('Média de Fila')\n",
    "plt.title('Média de Filas ao Longo dos Meses')\n",
    "plt.show()"
   ]
  },
  {
   "cell_type": "code",
   "execution_count": null,
   "id": "fda28235",
   "metadata": {},
   "outputs": [],
   "source": [
    "# Média de filas ao longo da semana\n",
    "media_semana = espera_maxima.groupby('day_of_week')['wait_time'].mean().reindex(['Monday', 'Tuesday', 'Wednesday', 'Thursday', 'Friday', 'Saturday', 'Sunday'])\n",
    "\n",
    "# Plotar gráfico de barras\n",
    "sns.barplot(x=media_semana.index, y=media_semana.values)\n",
    "plt.xlabel('Dia da Semana')\n",
    "plt.ylabel('Média de Fila')\n",
    "plt.title('Média de Filas ao Longo da Semana')\n",
    "plt.show()"
   ]
  },
  {
   "cell_type": "markdown",
   "id": "f2737fcf",
   "metadata": {},
   "source": [
    "### ANÁLISE BASEADA NA MEDIANA DOS TEMPOS DE FILA"
   ]
  },
  {
   "cell_type": "code",
   "execution_count": null,
   "id": "bebaa393",
   "metadata": {},
   "outputs": [],
   "source": [
    "espera_mediana = df_geral.groupby('date')['wait_time'].median().reset_index()"
   ]
  },
  {
   "cell_type": "code",
   "execution_count": null,
   "id": "52ed25df",
   "metadata": {},
   "outputs": [],
   "source": [
    "espera_mediana['wait_time'] = espera_mediana['wait_time'].round(0)"
   ]
  },
  {
   "cell_type": "code",
   "execution_count": null,
   "id": "15ffe35b",
   "metadata": {},
   "outputs": [],
   "source": [
    "espera_mediana['date'] = pd.to_datetime(espera_mediana['date'])\n",
    "espera_mediana['year'] = espera_mediana['date'].dt.year\n",
    "espera_mediana['month'] = espera_mediana['date'].dt.month\n",
    "espera_mediana['day'] = espera_mediana['date'].dt.day"
   ]
  },
  {
   "cell_type": "code",
   "execution_count": null,
   "id": "539e0f7a",
   "metadata": {},
   "outputs": [],
   "source": [
    "espera_mediana = pd.merge(espera_mediana, tabela_horarios, on=\"date\", how=\"left\")\n",
    "\n",
    "# Adicione colunas para o dia da semana e a semana do ano\n",
    "espera_mediana['day_of_week'] = espera_mediana['date'].dt.day_name()\n",
    "espera_mediana['week_of_year'] = espera_mediana['date'].dt.isocalendar().week\n",
    "\n",
    "# Identifique os registros que atendem ao critério\n",
    "primeiros_dias_janeiro = (espera_mediana['month'] == 1) & (espera_mediana['week_of_year'] > 50)\n",
    "\n",
    "# Atribua o valor 0 à coluna 'week_of_year' para esses registros\n",
    "espera_mediana.loc[primeiros_dias_janeiro, 'week_of_year'] = 0\n",
    "\n",
    "espera_mediana"
   ]
  },
  {
   "cell_type": "code",
   "execution_count": null,
   "id": "39079907",
   "metadata": {},
   "outputs": [],
   "source": [
    "# Reorganize o dataframe para a forma desejada\n",
    "pivot_df = espera_mediana.pivot_table(values='wait_time', index='week_of_year', columns='day_of_week', aggfunc=np.mean)\n",
    "\n",
    "# Reordene as colunas para começar na segunda-feira\n",
    "ordered_days = ['Monday', 'Tuesday', 'Wednesday', 'Thursday', 'Friday', 'Saturday', 'Sunday']\n",
    "pivot_df = pivot_df[ordered_days]"
   ]
  },
  {
   "cell_type": "code",
   "execution_count": null,
   "id": "b065a620",
   "metadata": {},
   "outputs": [],
   "source": [
    "plt.figure(figsize=(12, 6))\n",
    "sns.histplot(espera_mediana['wait_time'], bins=30, kde=True)\n",
    "plt.title(\"Distribuição dos Tempos Medianos de Espera\")\n",
    "plt.xlabel(\"Tempo de Espera\")\n",
    "plt.ylabel(\"Frequência\")\n",
    "plt.show()"
   ]
  },
  {
   "cell_type": "code",
   "execution_count": null,
   "id": "10c593fa",
   "metadata": {},
   "outputs": [],
   "source": [
    "meses = ['jan', 'fev', 'mar', 'abr', 'mai', 'jun', 'jul', 'ago', 'set', 'out', 'nov', 'dez']\n",
    "\n",
    "espera_mediana_meses = []\n",
    "\n",
    "for mes in meses:\n",
    "    numero_mes = meses.index(mes) + 1  # Obtém o número do mês (janeiro = 1, fevereiro = 2, etc.)\n",
    "    espera_mediana_mes = espera_mediana[espera_mediana['month'] == numero_mes]\n",
    "    espera_mediana_meses.append(espera_mediana_mes)"
   ]
  },
  {
   "cell_type": "code",
   "execution_count": null,
   "id": "6a78b717",
   "metadata": {},
   "outputs": [],
   "source": [
    "# Cálculo dos percentis\n",
    "p5 = np.percentile(espera_mediana['wait_time'], 5)\n",
    "p90 = np.percentile(espera_mediana['wait_time'], 90)\n",
    "p95 = np.percentile(espera_mediana['wait_time'], 95)"
   ]
  },
  {
   "cell_type": "code",
   "execution_count": null,
   "id": "5962be75",
   "metadata": {},
   "outputs": [],
   "source": [
    "gera_calendario(espera_mediana, 'Anual', 'median', '')"
   ]
  },
  {
   "cell_type": "code",
   "execution_count": null,
   "id": "009c0010",
   "metadata": {},
   "outputs": [],
   "source": [
    "# for mes in meses:\n",
    "#     numero_mes = meses.index(mes)\n",
    "#     gera_calendario(espera_mediana_meses[numero_mes], 'Mensal', 'median', mes)"
   ]
  },
  {
   "cell_type": "code",
   "execution_count": null,
   "id": "e2e1c9b9-99f2-40c5-b31f-f98f8c4f78cb",
   "metadata": {},
   "outputs": [],
   "source": [
    "# Média de filas ao longo dos meses\n",
    "media_mes = espera_mediana.groupby('month')['wait_time'].mean()\n",
    "\n",
    "# Plotar gráfico de barras\n",
    "sns.barplot(x=media_mes.index, y=media_mes.values)\n",
    "plt.xlabel('Mês')\n",
    "plt.ylabel('Média de Fila')\n",
    "plt.title('Média de Filas ao Longo dos Meses')\n",
    "plt.show()"
   ]
  },
  {
   "cell_type": "code",
   "execution_count": null,
   "id": "5c988e99-e045-4f59-b839-70bd7376a405",
   "metadata": {},
   "outputs": [],
   "source": [
    "# Média de filas ao longo da semana\n",
    "media_semana = espera_mediana.groupby('day_of_week')['wait_time'].mean().reindex(['Monday', 'Tuesday', 'Wednesday', 'Thursday', 'Friday', 'Saturday', 'Sunday'])\n",
    "\n",
    "# Plotar gráfico de barras\n",
    "sns.barplot(x=media_semana.index, y=media_semana.values)\n",
    "plt.xlabel('Dia da Semana')\n",
    "plt.ylabel('Média de Fila')\n",
    "plt.title('Média de Filas ao Longo da Semana')\n",
    "plt.show()"
   ]
  },
  {
   "cell_type": "markdown",
   "id": "1d42d11a",
   "metadata": {},
   "source": [
    "### ANÁLISE BASEADA NA MODA DOS TEMPOS DE FILA"
   ]
  },
  {
   "cell_type": "code",
   "execution_count": null,
   "id": "65030207",
   "metadata": {},
   "outputs": [],
   "source": [
    "espera_moda = df_geral.groupby('date')['wait_time'].apply(lambda x: x.mode()[0]).reset_index()"
   ]
  },
  {
   "cell_type": "code",
   "execution_count": null,
   "id": "3c830a68",
   "metadata": {},
   "outputs": [],
   "source": [
    "espera_moda['wait_time'] = espera_moda['wait_time'].round(0)"
   ]
  },
  {
   "cell_type": "code",
   "execution_count": null,
   "id": "b6a3a776",
   "metadata": {},
   "outputs": [],
   "source": [
    "espera_moda['date'] = pd.to_datetime(espera_moda['date'])\n",
    "espera_moda['year'] = espera_moda['date'].dt.year\n",
    "espera_moda['month'] = espera_moda['date'].dt.month\n",
    "espera_moda['day'] = espera_moda['date'].dt.day"
   ]
  },
  {
   "cell_type": "code",
   "execution_count": null,
   "id": "e91409b5",
   "metadata": {},
   "outputs": [],
   "source": [
    "espera_moda = pd.merge(espera_moda, tabela_horarios, on=\"date\", how=\"left\")\n",
    "\n",
    "# Adicione colunas para o dia da semana e a semana do ano\n",
    "espera_moda['day_of_week'] = espera_moda['date'].dt.day_name()\n",
    "espera_moda['week_of_year'] = espera_moda['date'].dt.isocalendar().week\n",
    "\n",
    "# Identifique os registros que atendem ao critério\n",
    "primeiros_dias_janeiro = (espera_moda['month'] == 1) & (espera_moda['week_of_year'] > 50)\n",
    "\n",
    "# Atribua o valor 0 à coluna 'week_of_year' para esses registros\n",
    "espera_moda.loc[primeiros_dias_janeiro, 'week_of_year'] = 0\n",
    "\n",
    "espera_moda"
   ]
  },
  {
   "cell_type": "code",
   "execution_count": null,
   "id": "5e77358c",
   "metadata": {},
   "outputs": [],
   "source": [
    "# Reorganize o dataframe para a forma desejada\n",
    "pivot_df = espera_moda.pivot_table(values='wait_time', index='week_of_year', columns='day_of_week', aggfunc=np.mean)\n",
    "\n",
    "# Reordene as colunas para começar na segunda-feira\n",
    "ordered_days = ['Monday', 'Tuesday', 'Wednesday', 'Thursday', 'Friday', 'Saturday', 'Sunday']\n",
    "pivot_df = pivot_df[ordered_days]"
   ]
  },
  {
   "cell_type": "code",
   "execution_count": null,
   "id": "af4177ac",
   "metadata": {},
   "outputs": [],
   "source": [
    "plt.figure(figsize=(12, 6))\n",
    "sns.histplot(espera_moda['wait_time'], bins=30, kde=True)\n",
    "plt.title(\"Distribuição dos Tempos Modais de Espera\")\n",
    "plt.xlabel(\"Tempo de Espera\")\n",
    "plt.ylabel(\"Frequência\")\n",
    "plt.show()"
   ]
  },
  {
   "cell_type": "code",
   "execution_count": null,
   "id": "7fbd54b7",
   "metadata": {},
   "outputs": [],
   "source": [
    "meses = ['jan', 'fev', 'mar', 'abr', 'mai', 'jun', 'jul', 'ago', 'set', 'out', 'nov', 'dez']\n",
    "\n",
    "espera_moda_meses = []\n",
    "\n",
    "for mes in meses:\n",
    "    numero_mes = meses.index(mes) + 1  # Obtém o número do mês (janeiro = 1, fevereiro = 2, etc.)\n",
    "    espera_moda_mes = espera_moda[espera_moda['month'] == numero_mes]\n",
    "    espera_moda_meses.append(espera_moda_mes)"
   ]
  },
  {
   "cell_type": "code",
   "execution_count": null,
   "id": "de3f7fd2",
   "metadata": {},
   "outputs": [],
   "source": [
    "# Cálculo dos percentis\n",
    "p5 = np.percentile(espera_moda['wait_time'], 5)\n",
    "p90 = np.percentile(espera_moda['wait_time'], 90)\n",
    "p95 = np.percentile(espera_moda['wait_time'], 95)"
   ]
  },
  {
   "cell_type": "code",
   "execution_count": null,
   "id": "4937d864",
   "metadata": {},
   "outputs": [],
   "source": [
    "gera_calendario(espera_moda, 'Anual', 'mode', '')"
   ]
  },
  {
   "cell_type": "code",
   "execution_count": null,
   "id": "ad01778e",
   "metadata": {},
   "outputs": [],
   "source": [
    "# for mes in meses:\n",
    "#     numero_mes = meses.index(mes)\n",
    "#     gera_calendario(espera_moda_meses[numero_mes], 'Mensal', 'mode', mes)"
   ]
  },
  {
   "cell_type": "code",
   "execution_count": null,
   "id": "bb6a242a",
   "metadata": {},
   "outputs": [],
   "source": [
    "# Média de filas ao longo dos meses\n",
    "media_mes = espera_moda.groupby('month')['wait_time'].mean()\n",
    "\n",
    "# Plotar gráfico de barras\n",
    "sns.barplot(x=media_mes.index, y=media_mes.values)\n",
    "plt.xlabel('Mês')\n",
    "plt.ylabel('Média de Fila')\n",
    "plt.title('Média das Modas de Filas ao Longo dos Meses')\n",
    "plt.show()"
   ]
  },
  {
   "cell_type": "code",
   "execution_count": null,
   "id": "c4586c3c",
   "metadata": {},
   "outputs": [],
   "source": [
    "# Média de filas ao longo da semana\n",
    "media_semana = espera_moda.groupby('day_of_week')['wait_time'].mean().reindex(['Monday', 'Tuesday', 'Wednesday', 'Thursday', 'Friday', 'Saturday', 'Sunday'])\n",
    "\n",
    "# Plotar gráfico de barras\n",
    "sns.barplot(x=media_semana.index, y=media_semana.values)\n",
    "plt.xlabel('Dia da Semana')\n",
    "plt.ylabel('Média de Fila')\n",
    "plt.title('Média das Modas de Filas ao Longo da Semana')\n",
    "plt.show()"
   ]
  },
  {
   "cell_type": "markdown",
   "id": "665e325f",
   "metadata": {},
   "source": [
    "### ANÁLISE BASEADA NO DESVIO PADRÃO DIÁRIO"
   ]
  },
  {
   "cell_type": "code",
   "execution_count": null,
   "id": "e535270a-c632-4489-a60e-04c02a8ee9e7",
   "metadata": {},
   "outputs": [],
   "source": [
    "espera_dp = df_geral.groupby('date')['wait_time'].std().reset_index()"
   ]
  },
  {
   "cell_type": "code",
   "execution_count": null,
   "id": "7901bb97",
   "metadata": {},
   "outputs": [],
   "source": [
    "espera_dp['wait_time'] = espera_dp['wait_time'].round(0)"
   ]
  },
  {
   "cell_type": "code",
   "execution_count": null,
   "id": "df26b23a-a177-44f1-a59e-71efb8e3bb98",
   "metadata": {},
   "outputs": [],
   "source": [
    "espera_dp['date'] = pd.to_datetime(espera_dp['date'])\n",
    "espera_dp['year'] = espera_dp['date'].dt.year\n",
    "espera_dp['month'] = espera_dp['date'].dt.month\n",
    "espera_dp['day'] = espera_dp['date'].dt.day"
   ]
  },
  {
   "cell_type": "code",
   "execution_count": null,
   "id": "e882b615-dff7-40db-aaf1-074f38602089",
   "metadata": {},
   "outputs": [],
   "source": [
    "espera_dp = pd.merge(espera_dp, tabela_horarios, on=\"date\", how=\"left\")\n",
    "\n",
    "# Adicione colunas para o dia da semana e a semana do ano\n",
    "espera_dp['day_of_week'] = espera_dp['date'].dt.day_name()\n",
    "espera_dp['week_of_year'] = espera_dp['date'].dt.isocalendar().week\n",
    "\n",
    "# Identifique os registros que atendem ao critério\n",
    "primeiros_dias_janeiro = (espera_dp['month'] == 1) & (espera_dp['week_of_year'] > 50)\n",
    "\n",
    "# Atribua o valor 0 à coluna 'week_of_year' para esses registros\n",
    "espera_dp.loc[primeiros_dias_janeiro, 'week_of_year'] = 0\n",
    "\n",
    "espera_dp"
   ]
  },
  {
   "cell_type": "code",
   "execution_count": null,
   "id": "8afa938e-5a58-4389-9266-f476ebcd96fd",
   "metadata": {},
   "outputs": [],
   "source": [
    "# Reorganize o dataframe para a forma desejada\n",
    "pivot_df = espera_dp.pivot_table(values='wait_time', index='week_of_year', columns='day_of_week', aggfunc=np.mean)\n",
    "\n",
    "# Reordene as colunas para começar na segunda-feira\n",
    "ordered_days = ['Monday', 'Tuesday', 'Wednesday', 'Thursday', 'Friday', 'Saturday', 'Sunday']\n",
    "pivot_df = pivot_df[ordered_days]"
   ]
  },
  {
   "cell_type": "code",
   "execution_count": null,
   "id": "0e693a80-aad1-49a2-a50b-65dab72adf25",
   "metadata": {},
   "outputs": [],
   "source": [
    "plt.figure(figsize=(12, 6))\n",
    "sns.histplot(espera_dp['wait_time'], bins=30, kde=True)\n",
    "plt.title(\"Distribuição dos Tempos de Espera\")\n",
    "plt.xlabel(\"Tempo de Espera\")\n",
    "plt.ylabel(\"Frequência\")\n",
    "plt.show()"
   ]
  },
  {
   "cell_type": "code",
   "execution_count": null,
   "id": "274e5c65",
   "metadata": {},
   "outputs": [],
   "source": [
    "meses = ['jan', 'fev', 'mar', 'abr', 'mai', 'jun', 'jul', 'ago', 'set', 'out', 'nov', 'dez']\n",
    "\n",
    "espera_std_meses = []\n",
    "\n",
    "for mes in meses:\n",
    "    numero_mes = meses.index(mes) + 1  # Obtém o número do mês (janeiro = 1, fevereiro = 2, etc.)\n",
    "    espera_std_mes = espera_media[espera_dp['month'] == numero_mes]\n",
    "    espera_std_meses.append(espera_std_mes)"
   ]
  },
  {
   "cell_type": "code",
   "execution_count": null,
   "id": "81d891ae",
   "metadata": {},
   "outputs": [],
   "source": [
    "# Cálculo dos percentis\n",
    "p5 = np.percentile(espera_dp['wait_time'], 5)\n",
    "p90 = np.percentile(espera_dp['wait_time'], 90)\n",
    "p95 = np.percentile(espera_dp['wait_time'], 95)"
   ]
  },
  {
   "cell_type": "code",
   "execution_count": null,
   "id": "b36b7244",
   "metadata": {},
   "outputs": [],
   "source": [
    "gera_calendario(espera_dp, 'Anual', 'std', '')"
   ]
  },
  {
   "cell_type": "code",
   "execution_count": null,
   "id": "a0a65cbc",
   "metadata": {},
   "outputs": [],
   "source": [
    "# for mes in meses:\n",
    "#     numero_mes = meses.index(mes)\n",
    "#     gera_calendario(espera_std_meses[numero_mes], 'Mensal', 'std', mes)"
   ]
  },
  {
   "cell_type": "code",
   "execution_count": null,
   "id": "03bd3614",
   "metadata": {},
   "outputs": [],
   "source": [
    "# Média de filas ao longo dos meses\n",
    "media_mes = espera_dp.groupby('month')['wait_time'].mean()\n",
    "\n",
    "# Plotar gráfico de barras\n",
    "sns.barplot(x=media_mes.index, y=media_mes.values)\n",
    "plt.xlabel('Mês')\n",
    "plt.ylabel('Média de Fila')\n",
    "plt.title('Média de Filas ao Longo dos Meses')\n",
    "plt.show()"
   ]
  },
  {
   "cell_type": "code",
   "execution_count": null,
   "id": "0b4bda79",
   "metadata": {},
   "outputs": [],
   "source": [
    "# Média de filas ao longo da semana\n",
    "media_semana = espera_dp.groupby('day_of_week')['wait_time'].mean().reindex(['Monday', 'Tuesday', 'Wednesday', 'Thursday', 'Friday', 'Saturday', 'Sunday'])\n",
    "\n",
    "# Plotar gráfico de barras\n",
    "sns.barplot(x=media_semana.index, y=media_semana.values)\n",
    "plt.xlabel('Dia da Semana')\n",
    "plt.ylabel('Média de Fila')\n",
    "plt.title('Média de Filas ao Longo da Semana')\n",
    "plt.show()"
   ]
  }
 ],
 "metadata": {
  "kernelspec": {
   "display_name": "Python 3 (ipykernel)",
   "language": "python",
   "name": "python3"
  },
  "language_info": {
   "codemirror_mode": {
    "name": "ipython",
    "version": 3
   },
   "file_extension": ".py",
   "mimetype": "text/x-python",
   "name": "python",
   "nbconvert_exporter": "python",
   "pygments_lexer": "ipython3",
   "version": "3.7.7"
  }
 },
 "nbformat": 4,
 "nbformat_minor": 5
}
